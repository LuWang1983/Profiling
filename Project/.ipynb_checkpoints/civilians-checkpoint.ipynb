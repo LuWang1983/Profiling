{
 "cells": [
  {
   "cell_type": "code",
   "execution_count": 6,
   "metadata": {},
   "outputs": [
    {
     "ename": "SyntaxError",
     "evalue": "invalid syntax (<ipython-input-6-ef9dfcf96f4c>, line 31)",
     "output_type": "error",
     "traceback": [
      "\u001b[0;36m  File \u001b[0;32m\"<ipython-input-6-ef9dfcf96f4c>\"\u001b[0;36m, line \u001b[0;32m31\u001b[0m\n\u001b[0;31m    def handle_non_numerical_data(dataset)\u001b[0m\n\u001b[0m                                          ^\u001b[0m\n\u001b[0;31mSyntaxError\u001b[0m\u001b[0;31m:\u001b[0m invalid syntax\n"
     ]
    }
   ],
   "source": [
    "# Development\n",
    "# Import algorithms, methods and dataset from libraries\n",
    "\n",
    "#Methods\n",
    "from pandas import read_csv\n",
    "from matplotlib import pyplot\n",
    "\n",
    "# data split and cross validation\n",
    "from sklearn.model_selection import train_test_split\n",
    "from sklearn.model_selection import cross_val_score\n",
    "from sklearn.model_selection import StratifiedKFold\n",
    "\n",
    "#algorithms\n",
    "from sklearn.linear_model import LogisticRegression\n",
    "from sklearn.tree import DecisionTreeClassifier\n",
    "from sklearn.neighbors import KNeighborsClassifier\n",
    "from sklearn.discriminant_analysis import LinearDiscriminantAnalysis\n",
    "from sklearn.naive_bayes import GaussianNB\n",
    "from sklearn.svm import SVC\n",
    "\n",
    "# Load dataset and define features\n",
    "url = \"civilians.csv\"\n",
    "names = ['numberCalled', 'callType', 'timeStamp', 'attackDate', 'courierPhoneNumber', 'phoneNumber', 'potentialTerrorist']\n",
    "dataset = read_csv(url, names=names)\n",
    "\n",
    "# convert non numerical dataset to numerical data\n",
    "dataset.convert_objects(convert_numeric=True)\n",
    "dataset.fillna(0, inplace=True)\n",
    "\n",
    "# print(dataset.head())\n",
    "\n",
    "def handle_non_numerical_data(dataset)\n",
    "columns = dataset.columns.values\n",
    "for column in columns:\n",
    "    text_digit_vals = {}\n",
    "        def convert_to_int(val):\n",
    "        return text_digit_vals[val]\n",
    "    \n",
    "    if dataset[column].dtype != np.int64 and dataset[column].dtype != np.float64:\n",
    "        column_contents = dataset[column].values.tolist()\n",
    "        unique_elements = set(column_contents)\n",
    "        x = 0\n",
    "        for unique in unique_elements:\n",
    "            if unique not in text_digit_vals:\n",
    "                text_digit_vals[unique] = x\n",
    "                x+=1\n",
    "                \n",
    "                dataset[column] = list(map(convert_to_int, dataset[column]))\n",
    "                \n",
    "    return dataset\n",
    "\n",
    "dataset = handle_non_numerical_data(dataset)\n",
    "print(dataset.head())\n",
    "\n",
    "\n",
    "# Split-out validation dataset to a 8:2 ratio. 80% for training, 20% for testing\n",
    "array = dataset.values\n",
    "# print(array)\n",
    "X = array[:,0:4]\n",
    "y = array[:,4]\n",
    "X_train, X_validation, Y_train, Y_validation = train_test_split(X, y, test_size=0.20, random_state=1, shuffle=True)\n",
    "\n",
    "# Spot Check Algorithms - compare different models to pick the best model\n",
    "# does not need to be included in the final model\n",
    "models = []\n",
    "models.append(('LR', LogisticRegression(solver='liblinear', multi_class='ovr')))\n",
    "models.append(('LDA', LinearDiscriminantAnalysis()))\n",
    "models.append(('KNN', KNeighborsClassifier()))\n",
    "models.append(('CART', DecisionTreeClassifier()))\n",
    "models.append(('NB', GaussianNB()))\n",
    "models.append(('SVM', SVC(gamma='auto')))\n"
   ]
  },
  {
   "cell_type": "code",
   "execution_count": null,
   "metadata": {},
   "outputs": [],
   "source": []
  }
 ],
 "metadata": {
  "kernelspec": {
   "display_name": "Python 3",
   "language": "python",
   "name": "python3"
  },
  "language_info": {
   "codemirror_mode": {
    "name": "ipython",
    "version": 3
   },
   "file_extension": ".py",
   "mimetype": "text/x-python",
   "name": "python",
   "nbconvert_exporter": "python",
   "pygments_lexer": "ipython3",
   "version": "3.8.3"
  }
 },
 "nbformat": 4,
 "nbformat_minor": 4
}
